{
 "cells": [
  {
   "cell_type": "markdown",
   "id": "17bdec2a",
   "metadata": {},
   "source": [
    "## **Data Visualization I**\n",
    "\n",
    "1. **Use the inbuilt dataset `Titanic`**.  \n",
    "   The dataset contains **891 rows** and provides information about the **passengers who boarded the Titanic**.  \n",
    "\n",
    "   Use the **Seaborn library** to explore the data and see if we can identify **any patterns or trends**.\n",
    "\n",
    "2. **Visualize the distribution of ticket prices**:  \n",
    "   Write the code to check how the **prices of the tickets** (column: `'fare'`) for each passenger are distributed by **plotting a histogram**.\n",
    "\n",
    "\n",
    "The objective is to **predict the value of the ticket prices** using the given features.\n"
   ]
  },
  {
   "cell_type": "code",
   "execution_count": null,
   "id": "263fa123",
   "metadata": {
    "vscode": {
     "languageId": "plaintext"
    }
   },
   "outputs": [],
   "source": [
    "import pandas as pd \n",
    "import numpy as np\n",
    "import seaborn as sns\n",
    "import matplotlib.pyplot as plt"
   ]
  },
  {
   "cell_type": "code",
   "execution_count": null,
   "id": "9bb70f61",
   "metadata": {
    "vscode": {
     "languageId": "plaintext"
    }
   },
   "outputs": [],
   "source": []
  }
 ],
 "metadata": {
  "language_info": {
   "name": "python"
  }
 },
 "nbformat": 4,
 "nbformat_minor": 5
}
